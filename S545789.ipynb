{
 "cells": [
  {
   "cell_type": "markdown",
   "id": "56360711-c742-4dbc-b236-46683078119a",
   "metadata": {},
   "source": [
    "## Student Name Renee Hawkins"
   ]
  },
  {
   "cell_type": "code",
   "execution_count": 58,
   "id": "7669303a-c0ac-4d82-9ff4-ba07ea75a265",
   "metadata": {},
   "outputs": [
    {
     "name": "stdout",
     "output_type": "stream",
     "text": [
      "*      *\n",
      "**    **\n",
      "***  ***\n",
      "********\n"
     ]
    }
   ],
   "source": [
    "for i in range(4):\n",
    "    for j in range(i+1):\n",
    "        print('*', end='')\n",
    "    for j in range(i,n-1):\n",
    "        print(' ',end ='')\n",
    "    for j in range(i,n-1):\n",
    "        print(' ',end='')\n",
    "    for j in range(i+1):\n",
    "        print('*',end='')\n",
    "    print()\n",
    "\n",
    "    "
   ]
  }
 ],
 "metadata": {
  "kernelspec": {
   "display_name": "Python 3 (ipykernel)",
   "language": "python",
   "name": "python3"
  },
  "language_info": {
   "codemirror_mode": {
    "name": "ipython",
    "version": 3
   },
   "file_extension": ".py",
   "mimetype": "text/x-python",
   "name": "python",
   "nbconvert_exporter": "python",
   "pygments_lexer": "ipython3",
   "version": "3.10.8"
  }
 },
 "nbformat": 4,
 "nbformat_minor": 5
}
